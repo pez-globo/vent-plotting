{
 "cells": [
  {
   "cell_type": "markdown",
   "metadata": {},
   "source": [
    "<span style=\"color:red; font-family:Helvetica Neue, Helvetica, Arial, sans-serif; font-size:2em;\">An Exception was encountered at 'In [11]'.</span>"
   ]
  },
  {
   "cell_type": "markdown",
   "metadata": {
    "papermill": {
     "duration": 0.023666,
     "end_time": "2020-04-18T04:05:12.137635",
     "exception": false,
     "start_time": "2020-04-18T04:05:12.113969",
     "status": "completed"
    },
    "tags": []
   },
   "source": [
    "# Setup"
   ]
  },
  {
   "cell_type": "markdown",
   "metadata": {
    "papermill": {
     "duration": 0.010502,
     "end_time": "2020-04-18T04:05:12.165456",
     "exception": false,
     "start_time": "2020-04-18T04:05:12.154954",
     "status": "completed"
    },
    "tags": []
   },
   "source": [
    "## Parameters"
   ]
  },
  {
   "cell_type": "code",
   "execution_count": 1,
   "metadata": {
    "execution": {
     "iopub.execute_input": "2020-04-18T04:05:12.192816Z",
     "iopub.status.busy": "2020-04-18T04:05:12.192298Z",
     "iopub.status.idle": "2020-04-18T04:05:12.194472Z",
     "shell.execute_reply": "2020-04-18T04:05:12.194105Z"
    },
    "papermill": {
     "duration": 0.018534,
     "end_time": "2020-04-18T04:05:12.194556",
     "exception": false,
     "start_time": "2020-04-18T04:05:12.176022",
     "status": "completed"
    },
    "tags": [
     "parameters"
    ]
   },
   "outputs": [],
   "source": [
    "# Default Parameters\n",
    "notebook_depth = 1\n",
    "dataset_collections_path = '/home/lietk12/Projects/mp/vent4us/vent-data/'\n",
    "dataset_collection_name = '20200413 solenoid pinch valve only'\n",
    "dataset_name = 'A_RR=30, Vt = 300, PEEP = [5,10,15], 10 psi, flow rate = 40slm'\n",
    "data_name = '2020-04-13 22-16-20.217561'\n",
    "output_name = 't50-70'\n",
    "start_time = 50\n",
    "end_time = 70"
   ]
  },
  {
   "cell_type": "code",
   "execution_count": 2,
   "metadata": {
    "execution": {
     "iopub.execute_input": "2020-04-18T04:05:12.217875Z",
     "iopub.status.busy": "2020-04-18T04:05:12.217334Z",
     "iopub.status.idle": "2020-04-18T04:05:12.219515Z",
     "shell.execute_reply": "2020-04-18T04:05:12.219114Z"
    },
    "papermill": {
     "duration": 0.014948,
     "end_time": "2020-04-18T04:05:12.219592",
     "exception": false,
     "start_time": "2020-04-18T04:05:12.204644",
     "status": "completed"
    },
    "tags": [
     "injected-parameters"
    ]
   },
   "outputs": [],
   "source": [
    "# Parameters\n",
    "notebook_depth = 3\n",
    "dataset_collections_path = \"/home/lietk12/Projects/mp/vent4us/vent-data/\"\n",
    "dataset_collection_name = \"20200417 solenoid pinch valve only\"\n",
    "dataset_name = \"change PEEP\"\n",
    "data_name = \"2020-04-17 16-03-4.356656\"\n",
    "output_name = \"Series1\"\n",
    "start_time = 0\n",
    "end_time = 100\n"
   ]
  },
  {
   "cell_type": "markdown",
   "metadata": {
    "papermill": {
     "duration": 0.009488,
     "end_time": "2020-04-18T04:05:12.238622",
     "exception": false,
     "start_time": "2020-04-18T04:05:12.229134",
     "status": "completed"
    },
    "tags": []
   },
   "source": [
    "## Imports"
   ]
  },
  {
   "cell_type": "code",
   "execution_count": 3,
   "metadata": {
    "execution": {
     "iopub.execute_input": "2020-04-18T04:05:12.261133Z",
     "iopub.status.busy": "2020-04-18T04:05:12.260491Z",
     "iopub.status.idle": "2020-04-18T04:05:12.262630Z",
     "shell.execute_reply": "2020-04-18T04:05:12.262268Z"
    },
    "papermill": {
     "duration": 0.014606,
     "end_time": "2020-04-18T04:05:12.262707",
     "exception": false,
     "start_time": "2020-04-18T04:05:12.248101",
     "status": "completed"
    },
    "tags": []
   },
   "outputs": [],
   "source": [
    "import pathlib"
   ]
  },
  {
   "cell_type": "markdown",
   "metadata": {
    "papermill": {
     "duration": 0.009549,
     "end_time": "2020-04-18T04:05:12.282239",
     "exception": false,
     "start_time": "2020-04-18T04:05:12.272690",
     "status": "completed"
    },
    "tags": []
   },
   "source": [
    "### Plotting"
   ]
  },
  {
   "cell_type": "code",
   "execution_count": 4,
   "metadata": {
    "execution": {
     "iopub.execute_input": "2020-04-18T04:05:12.310201Z",
     "iopub.status.busy": "2020-04-18T04:05:12.309531Z",
     "iopub.status.idle": "2020-04-18T04:05:12.546499Z",
     "shell.execute_reply": "2020-04-18T04:05:12.546815Z"
    },
    "papermill": {
     "duration": 0.253807,
     "end_time": "2020-04-18T04:05:12.546905",
     "exception": false,
     "start_time": "2020-04-18T04:05:12.293098",
     "status": "completed"
    },
    "tags": []
   },
   "outputs": [],
   "source": [
    "import matplotlib as mpl\n",
    "import matplotlib.pyplot as plt"
   ]
  },
  {
   "cell_type": "markdown",
   "metadata": {
    "papermill": {
     "duration": 0.009608,
     "end_time": "2020-04-18T04:05:12.566397",
     "exception": false,
     "start_time": "2020-04-18T04:05:12.556789",
     "status": "completed"
    },
    "tags": []
   },
   "source": [
    "### Analysis"
   ]
  },
  {
   "cell_type": "code",
   "execution_count": 5,
   "metadata": {
    "execution": {
     "iopub.execute_input": "2020-04-18T04:05:12.595625Z",
     "iopub.status.busy": "2020-04-18T04:05:12.594875Z",
     "iopub.status.idle": "2020-04-18T04:05:12.732894Z",
     "shell.execute_reply": "2020-04-18T04:05:12.732469Z"
    },
    "papermill": {
     "duration": 0.154841,
     "end_time": "2020-04-18T04:05:12.733003",
     "exception": false,
     "start_time": "2020-04-18T04:05:12.578162",
     "status": "completed"
    },
    "tags": []
   },
   "outputs": [],
   "source": [
    "import project_path\n",
    "project_path.add_parent(notebook_depth) # make local ventplotting package available\n",
    "\n",
    "from ventplotting.analysis import VentAnalyzer\n",
    "from ventplotting.utilities import paths\n",
    "from ventplotting.datasets import organization\n",
    "from ventplotting.plotting import plot\n",
    "from ventplotting.plotting import measurements as mplot\n",
    "from ventplotting.plotting import settings as splot"
   ]
  },
  {
   "cell_type": "markdown",
   "metadata": {
    "papermill": {
     "duration": 0.009681,
     "end_time": "2020-04-18T04:05:12.752691",
     "exception": false,
     "start_time": "2020-04-18T04:05:12.743010",
     "status": "completed"
    },
    "tags": []
   },
   "source": [
    "### Notebook"
   ]
  },
  {
   "cell_type": "code",
   "execution_count": 6,
   "metadata": {
    "execution": {
     "iopub.execute_input": "2020-04-18T04:05:12.781548Z",
     "iopub.status.busy": "2020-04-18T04:05:12.781107Z",
     "iopub.status.idle": "2020-04-18T04:05:13.000582Z",
     "shell.execute_reply": "2020-04-18T04:05:13.000917Z"
    },
    "papermill": {
     "duration": 0.237606,
     "end_time": "2020-04-18T04:05:13.001060",
     "exception": false,
     "start_time": "2020-04-18T04:05:12.763454",
     "status": "completed"
    },
    "tags": []
   },
   "outputs": [],
   "source": [
    "%load_ext autoreload\n",
    "import logging\n",
    "\n",
    "import scrapbook as sb\n",
    "\n",
    "import IPython.display as ipd\n",
    "from ventplotting.notebooks.display import print_md"
   ]
  },
  {
   "cell_type": "markdown",
   "metadata": {
    "papermill": {
     "duration": 0.009721,
     "end_time": "2020-04-18T04:05:13.020817",
     "exception": false,
     "start_time": "2020-04-18T04:05:13.011096",
     "status": "completed"
    },
    "tags": []
   },
   "source": [
    "## Basic Configuration"
   ]
  },
  {
   "cell_type": "markdown",
   "metadata": {
    "papermill": {
     "duration": 0.013707,
     "end_time": "2020-04-18T04:05:13.045253",
     "exception": false,
     "start_time": "2020-04-18T04:05:13.031546",
     "status": "completed"
    },
    "tags": []
   },
   "source": [
    "### Plotting"
   ]
  },
  {
   "cell_type": "code",
   "execution_count": 7,
   "metadata": {
    "execution": {
     "iopub.execute_input": "2020-04-18T04:05:13.070253Z",
     "iopub.status.busy": "2020-04-18T04:05:13.069848Z",
     "iopub.status.idle": "2020-04-18T04:05:13.080083Z",
     "shell.execute_reply": "2020-04-18T04:05:13.079728Z"
    },
    "papermill": {
     "duration": 0.025016,
     "end_time": "2020-04-18T04:05:13.080162",
     "exception": false,
     "start_time": "2020-04-18T04:05:13.055146",
     "status": "completed"
    },
    "tags": []
   },
   "outputs": [],
   "source": [
    "%autoreload\n",
    "\n",
    "plt.style.use('bmh')\n",
    "plot.use_helvetica()\n",
    "mpl.rc(\n",
    "    'figure',\n",
    "    dpi=120,\n",
    "    figsize=(8, 6.1)\n",
    ")\n",
    "mpl.rc('savefig', dpi=300, transparent=True, bbox='tight')"
   ]
  },
  {
   "cell_type": "markdown",
   "metadata": {
    "papermill": {
     "duration": 0.009905,
     "end_time": "2020-04-18T04:05:13.100188",
     "exception": false,
     "start_time": "2020-04-18T04:05:13.090283",
     "status": "completed"
    },
    "tags": []
   },
   "source": [
    "### Analysis"
   ]
  },
  {
   "cell_type": "code",
   "execution_count": 8,
   "metadata": {
    "execution": {
     "iopub.execute_input": "2020-04-18T04:05:13.123144Z",
     "iopub.status.busy": "2020-04-18T04:05:13.122719Z",
     "iopub.status.idle": "2020-04-18T04:05:13.124197Z",
     "shell.execute_reply": "2020-04-18T04:05:13.124514Z"
    },
    "papermill": {
     "duration": 0.014691,
     "end_time": "2020-04-18T04:05:13.124605",
     "exception": false,
     "start_time": "2020-04-18T04:05:13.109914",
     "status": "completed"
    },
    "tags": []
   },
   "outputs": [],
   "source": [
    "dataset_path = organization.dataset_path(\n",
    "    dataset_name, dataset_collection_name, collections_dir=dataset_collections_path\n",
    ")\n",
    "data_title = pathlib.Path(dataset_name) / data_name"
   ]
  },
  {
   "cell_type": "markdown",
   "metadata": {
    "papermill": {
     "duration": 0.009806,
     "end_time": "2020-04-18T04:05:13.144830",
     "exception": false,
     "start_time": "2020-04-18T04:05:13.135024",
     "status": "completed"
    },
    "tags": []
   },
   "source": [
    "### Logging"
   ]
  },
  {
   "cell_type": "code",
   "execution_count": 9,
   "metadata": {
    "execution": {
     "iopub.execute_input": "2020-04-18T04:05:13.174631Z",
     "iopub.status.busy": "2020-04-18T04:05:13.174215Z",
     "iopub.status.idle": "2020-04-18T04:05:13.175747Z",
     "shell.execute_reply": "2020-04-18T04:05:13.176068Z"
    },
    "papermill": {
     "duration": 0.01947,
     "end_time": "2020-04-18T04:05:13.176159",
     "exception": false,
     "start_time": "2020-04-18T04:05:13.156689",
     "status": "completed"
    },
    "tags": []
   },
   "outputs": [],
   "source": [
    "logger = logging.getLogger('ventplotting')\n",
    "logger.addHandler(logging.StreamHandler())\n",
    "logger.setLevel(logging.INFO)"
   ]
  },
  {
   "cell_type": "markdown",
   "metadata": {
    "papermill": {
     "duration": 0.010038,
     "end_time": "2020-04-18T04:05:13.196517",
     "exception": false,
     "start_time": "2020-04-18T04:05:13.186479",
     "status": "completed"
    },
    "tags": []
   },
   "source": [
    "# Data"
   ]
  },
  {
   "cell_type": "code",
   "execution_count": 10,
   "metadata": {
    "execution": {
     "iopub.execute_input": "2020-04-18T04:05:13.220556Z",
     "iopub.status.busy": "2020-04-18T04:05:13.220165Z",
     "iopub.status.idle": "2020-04-18T04:05:13.222298Z",
     "shell.execute_reply": "2020-04-18T04:05:13.221960Z"
    },
    "papermill": {
     "duration": 0.015765,
     "end_time": "2020-04-18T04:05:13.222377",
     "exception": false,
     "start_time": "2020-04-18T04:05:13.206612",
     "status": "completed"
    },
    "tags": []
   },
   "outputs": [],
   "source": [
    "data_path = paths.csv_name_to_path(data_name, dir=dataset_path)"
   ]
  },
  {
   "cell_type": "markdown",
   "metadata": {
    "papermill": {
     "duration": 0.009913,
     "end_time": "2020-04-18T04:05:13.242332",
     "exception": false,
     "start_time": "2020-04-18T04:05:13.232419",
     "status": "completed"
    },
    "tags": []
   },
   "source": [
    "# Basic Analysis"
   ]
  },
  {
   "cell_type": "markdown",
   "metadata": {
    "papermill": {
     "duration": 0.009972,
     "end_time": "2020-04-18T04:05:13.262339",
     "exception": false,
     "start_time": "2020-04-18T04:05:13.252367",
     "status": "completed"
    },
    "tags": []
   },
   "source": [
    "## Analysis"
   ]
  },
  {
   "cell_type": "code",
   "execution_count": 11,
   "metadata": {
    "execution": {
     "iopub.execute_input": "2020-04-18T04:05:13.294346Z",
     "iopub.status.busy": "2020-04-18T04:05:13.293669Z",
     "iopub.status.idle": "2020-04-18T04:05:13.364448Z",
     "shell.execute_reply": "2020-04-18T04:05:13.363863Z"
    },
    "papermill": {
     "duration": 0.089947,
     "end_time": "2020-04-18T04:05:13.364563",
     "exception": true,
     "start_time": "2020-04-18T04:05:13.274616",
     "status": "failed"
    },
    "tags": []
   },
   "outputs": [
    {
     "ename": "FileNotFoundError",
     "evalue": "[Errno 2] File /home/lietk12/Projects/mp/vent4us/vent-data/20200417 solenoid pinch valve only/change PEEP/2020-04-17 16-03-4.356656.csv does not exist: '/home/lietk12/Projects/mp/vent4us/vent-data/20200417 solenoid pinch valve only/change PEEP/2020-04-17 16-03-4.356656.csv'",
     "output_type": "error",
     "traceback": [
      "\u001b[0;31m---------------------------------------------------------------------------\u001b[0m",
      "\u001b[0;31mFileNotFoundError\u001b[0m                         Traceback (most recent call last)",
      "\u001b[0;32m<ipython-input-11-57f572a3167c>\u001b[0m in \u001b[0;36m<module>\u001b[0;34m\u001b[0m\n\u001b[1;32m      1\u001b[0m \u001b[0manalysis\u001b[0m \u001b[0;34m=\u001b[0m \u001b[0mVentAnalyzer\u001b[0m\u001b[0;34m(\u001b[0m\u001b[0;34m)\u001b[0m\u001b[0;34m\u001b[0m\u001b[0;34m\u001b[0m\u001b[0m\n\u001b[0;32m----> 2\u001b[0;31m \u001b[0manalysis\u001b[0m\u001b[0;34m.\u001b[0m\u001b[0mload_data\u001b[0m\u001b[0;34m(\u001b[0m\u001b[0mdata_name\u001b[0m\u001b[0;34m,\u001b[0m \u001b[0mdataset_path\u001b[0m\u001b[0;34m)\u001b[0m\u001b[0;34m\u001b[0m\u001b[0;34m\u001b[0m\u001b[0m\n\u001b[0m",
      "\u001b[0;32m~/Projects/mp/vent4us/vent-plotting/ventplotting/analysis.py\u001b[0m in \u001b[0;36mload_data\u001b[0;34m(self, name, dir)\u001b[0m\n\u001b[1;32m     45\u001b[0m     \u001b[0;32mdef\u001b[0m \u001b[0mload_data\u001b[0m\u001b[0;34m(\u001b[0m\u001b[0mself\u001b[0m\u001b[0;34m,\u001b[0m \u001b[0mname\u001b[0m\u001b[0;34m,\u001b[0m \u001b[0mdir\u001b[0m\u001b[0;34m)\u001b[0m\u001b[0;34m:\u001b[0m\u001b[0;34m\u001b[0m\u001b[0;34m\u001b[0m\u001b[0m\n\u001b[1;32m     46\u001b[0m         \u001b[0;34m\"\"\"Load all data files needed for analysis.\"\"\"\u001b[0m\u001b[0;34m\u001b[0m\u001b[0;34m\u001b[0m\u001b[0m\n\u001b[0;32m---> 47\u001b[0;31m         \u001b[0mself\u001b[0m\u001b[0;34m.\u001b[0m\u001b[0mraw_signals\u001b[0m\u001b[0;34m.\u001b[0m\u001b[0mload_csv\u001b[0m\u001b[0;34m(\u001b[0m\u001b[0mpaths\u001b[0m\u001b[0;34m.\u001b[0m\u001b[0mcsv_name_to_path\u001b[0m\u001b[0;34m(\u001b[0m\u001b[0mname\u001b[0m\u001b[0;34m,\u001b[0m \u001b[0mdir\u001b[0m\u001b[0;34m=\u001b[0m\u001b[0mdir\u001b[0m\u001b[0;34m)\u001b[0m\u001b[0;34m)\u001b[0m\u001b[0;34m\u001b[0m\u001b[0;34m\u001b[0m\u001b[0m\n\u001b[0m\u001b[1;32m     48\u001b[0m \u001b[0;34m\u001b[0m\u001b[0m\n\u001b[1;32m     49\u001b[0m     \u001b[0;31m# CONFIGS\u001b[0m\u001b[0;34m\u001b[0m\u001b[0;34m\u001b[0m\u001b[0;34m\u001b[0m\u001b[0m\n",
      "\u001b[0;32m~/Projects/mp/vent4us/vent-plotting/ventplotting/files/signals.py\u001b[0m in \u001b[0;36mload_csv\u001b[0;34m(self, path)\u001b[0m\n\u001b[1;32m     36\u001b[0m     \u001b[0;32mdef\u001b[0m \u001b[0mload_csv\u001b[0m\u001b[0;34m(\u001b[0m\u001b[0mself\u001b[0m\u001b[0;34m,\u001b[0m \u001b[0mpath\u001b[0m\u001b[0;34m)\u001b[0m\u001b[0;34m:\u001b[0m\u001b[0;34m\u001b[0m\u001b[0;34m\u001b[0m\u001b[0m\n\u001b[1;32m     37\u001b[0m         \u001b[0;34m\"\"\"Load signal set from a file path.\"\"\"\u001b[0m\u001b[0;34m\u001b[0m\u001b[0;34m\u001b[0m\u001b[0m\n\u001b[0;32m---> 38\u001b[0;31m         \u001b[0mself\u001b[0m\u001b[0;34m.\u001b[0m\u001b[0mdf\u001b[0m \u001b[0;34m=\u001b[0m \u001b[0mpd\u001b[0m\u001b[0;34m.\u001b[0m\u001b[0mread_csv\u001b[0m\u001b[0;34m(\u001b[0m\u001b[0mpath\u001b[0m\u001b[0;34m,\u001b[0m \u001b[0mheader\u001b[0m\u001b[0;34m=\u001b[0m\u001b[0mSIGNAL_START_ROW\u001b[0m\u001b[0;34m)\u001b[0m\u001b[0;34m\u001b[0m\u001b[0;34m\u001b[0m\u001b[0m\n\u001b[0m\u001b[1;32m     39\u001b[0m         \u001b[0mself\u001b[0m\u001b[0;34m.\u001b[0m\u001b[0mdf\u001b[0m\u001b[0;34m.\u001b[0m\u001b[0mrename\u001b[0m\u001b[0;34m(\u001b[0m\u001b[0mrename_column\u001b[0m\u001b[0;34m,\u001b[0m \u001b[0maxis\u001b[0m\u001b[0;34m=\u001b[0m\u001b[0;34m'columns'\u001b[0m\u001b[0;34m,\u001b[0m \u001b[0minplace\u001b[0m\u001b[0;34m=\u001b[0m\u001b[0;32mTrue\u001b[0m\u001b[0;34m)\u001b[0m\u001b[0;34m\u001b[0m\u001b[0;34m\u001b[0m\u001b[0m\n\u001b[1;32m     40\u001b[0m         \u001b[0mself\u001b[0m\u001b[0;34m.\u001b[0m\u001b[0mdf\u001b[0m\u001b[0;34m[\u001b[0m\u001b[0;34m'Time'\u001b[0m\u001b[0;34m]\u001b[0m \u001b[0;34m-=\u001b[0m \u001b[0mself\u001b[0m\u001b[0;34m.\u001b[0m\u001b[0mdf\u001b[0m\u001b[0;34m.\u001b[0m\u001b[0mTime\u001b[0m\u001b[0;34m.\u001b[0m\u001b[0mmin\u001b[0m\u001b[0;34m(\u001b[0m\u001b[0;34m)\u001b[0m\u001b[0;34m\u001b[0m\u001b[0;34m\u001b[0m\u001b[0m\n",
      "\u001b[0;32m/usr/local/lib/python3.6/dist-packages/pandas/io/parsers.py\u001b[0m in \u001b[0;36mparser_f\u001b[0;34m(filepath_or_buffer, sep, delimiter, header, names, index_col, usecols, squeeze, prefix, mangle_dupe_cols, dtype, engine, converters, true_values, false_values, skipinitialspace, skiprows, skipfooter, nrows, na_values, keep_default_na, na_filter, verbose, skip_blank_lines, parse_dates, infer_datetime_format, keep_date_col, date_parser, dayfirst, cache_dates, iterator, chunksize, compression, thousands, decimal, lineterminator, quotechar, quoting, doublequote, escapechar, comment, encoding, dialect, error_bad_lines, warn_bad_lines, delim_whitespace, low_memory, memory_map, float_precision)\u001b[0m\n\u001b[1;32m    674\u001b[0m         )\n\u001b[1;32m    675\u001b[0m \u001b[0;34m\u001b[0m\u001b[0m\n\u001b[0;32m--> 676\u001b[0;31m         \u001b[0;32mreturn\u001b[0m \u001b[0m_read\u001b[0m\u001b[0;34m(\u001b[0m\u001b[0mfilepath_or_buffer\u001b[0m\u001b[0;34m,\u001b[0m \u001b[0mkwds\u001b[0m\u001b[0;34m)\u001b[0m\u001b[0;34m\u001b[0m\u001b[0;34m\u001b[0m\u001b[0m\n\u001b[0m\u001b[1;32m    677\u001b[0m \u001b[0;34m\u001b[0m\u001b[0m\n\u001b[1;32m    678\u001b[0m     \u001b[0mparser_f\u001b[0m\u001b[0;34m.\u001b[0m\u001b[0m__name__\u001b[0m \u001b[0;34m=\u001b[0m \u001b[0mname\u001b[0m\u001b[0;34m\u001b[0m\u001b[0;34m\u001b[0m\u001b[0m\n",
      "\u001b[0;32m/usr/local/lib/python3.6/dist-packages/pandas/io/parsers.py\u001b[0m in \u001b[0;36m_read\u001b[0;34m(filepath_or_buffer, kwds)\u001b[0m\n\u001b[1;32m    446\u001b[0m \u001b[0;34m\u001b[0m\u001b[0m\n\u001b[1;32m    447\u001b[0m     \u001b[0;31m# Create the parser.\u001b[0m\u001b[0;34m\u001b[0m\u001b[0;34m\u001b[0m\u001b[0;34m\u001b[0m\u001b[0m\n\u001b[0;32m--> 448\u001b[0;31m     \u001b[0mparser\u001b[0m \u001b[0;34m=\u001b[0m \u001b[0mTextFileReader\u001b[0m\u001b[0;34m(\u001b[0m\u001b[0mfp_or_buf\u001b[0m\u001b[0;34m,\u001b[0m \u001b[0;34m**\u001b[0m\u001b[0mkwds\u001b[0m\u001b[0;34m)\u001b[0m\u001b[0;34m\u001b[0m\u001b[0;34m\u001b[0m\u001b[0m\n\u001b[0m\u001b[1;32m    449\u001b[0m \u001b[0;34m\u001b[0m\u001b[0m\n\u001b[1;32m    450\u001b[0m     \u001b[0;32mif\u001b[0m \u001b[0mchunksize\u001b[0m \u001b[0;32mor\u001b[0m \u001b[0miterator\u001b[0m\u001b[0;34m:\u001b[0m\u001b[0;34m\u001b[0m\u001b[0;34m\u001b[0m\u001b[0m\n",
      "\u001b[0;32m/usr/local/lib/python3.6/dist-packages/pandas/io/parsers.py\u001b[0m in \u001b[0;36m__init__\u001b[0;34m(self, f, engine, **kwds)\u001b[0m\n\u001b[1;32m    878\u001b[0m             \u001b[0mself\u001b[0m\u001b[0;34m.\u001b[0m\u001b[0moptions\u001b[0m\u001b[0;34m[\u001b[0m\u001b[0;34m\"has_index_names\"\u001b[0m\u001b[0;34m]\u001b[0m \u001b[0;34m=\u001b[0m \u001b[0mkwds\u001b[0m\u001b[0;34m[\u001b[0m\u001b[0;34m\"has_index_names\"\u001b[0m\u001b[0;34m]\u001b[0m\u001b[0;34m\u001b[0m\u001b[0;34m\u001b[0m\u001b[0m\n\u001b[1;32m    879\u001b[0m \u001b[0;34m\u001b[0m\u001b[0m\n\u001b[0;32m--> 880\u001b[0;31m         \u001b[0mself\u001b[0m\u001b[0;34m.\u001b[0m\u001b[0m_make_engine\u001b[0m\u001b[0;34m(\u001b[0m\u001b[0mself\u001b[0m\u001b[0;34m.\u001b[0m\u001b[0mengine\u001b[0m\u001b[0;34m)\u001b[0m\u001b[0;34m\u001b[0m\u001b[0;34m\u001b[0m\u001b[0m\n\u001b[0m\u001b[1;32m    881\u001b[0m \u001b[0;34m\u001b[0m\u001b[0m\n\u001b[1;32m    882\u001b[0m     \u001b[0;32mdef\u001b[0m \u001b[0mclose\u001b[0m\u001b[0;34m(\u001b[0m\u001b[0mself\u001b[0m\u001b[0;34m)\u001b[0m\u001b[0;34m:\u001b[0m\u001b[0;34m\u001b[0m\u001b[0;34m\u001b[0m\u001b[0m\n",
      "\u001b[0;32m/usr/local/lib/python3.6/dist-packages/pandas/io/parsers.py\u001b[0m in \u001b[0;36m_make_engine\u001b[0;34m(self, engine)\u001b[0m\n\u001b[1;32m   1112\u001b[0m     \u001b[0;32mdef\u001b[0m \u001b[0m_make_engine\u001b[0m\u001b[0;34m(\u001b[0m\u001b[0mself\u001b[0m\u001b[0;34m,\u001b[0m \u001b[0mengine\u001b[0m\u001b[0;34m=\u001b[0m\u001b[0;34m\"c\"\u001b[0m\u001b[0;34m)\u001b[0m\u001b[0;34m:\u001b[0m\u001b[0;34m\u001b[0m\u001b[0;34m\u001b[0m\u001b[0m\n\u001b[1;32m   1113\u001b[0m         \u001b[0;32mif\u001b[0m \u001b[0mengine\u001b[0m \u001b[0;34m==\u001b[0m \u001b[0;34m\"c\"\u001b[0m\u001b[0;34m:\u001b[0m\u001b[0;34m\u001b[0m\u001b[0;34m\u001b[0m\u001b[0m\n\u001b[0;32m-> 1114\u001b[0;31m             \u001b[0mself\u001b[0m\u001b[0;34m.\u001b[0m\u001b[0m_engine\u001b[0m \u001b[0;34m=\u001b[0m \u001b[0mCParserWrapper\u001b[0m\u001b[0;34m(\u001b[0m\u001b[0mself\u001b[0m\u001b[0;34m.\u001b[0m\u001b[0mf\u001b[0m\u001b[0;34m,\u001b[0m \u001b[0;34m**\u001b[0m\u001b[0mself\u001b[0m\u001b[0;34m.\u001b[0m\u001b[0moptions\u001b[0m\u001b[0;34m)\u001b[0m\u001b[0;34m\u001b[0m\u001b[0;34m\u001b[0m\u001b[0m\n\u001b[0m\u001b[1;32m   1115\u001b[0m         \u001b[0;32melse\u001b[0m\u001b[0;34m:\u001b[0m\u001b[0;34m\u001b[0m\u001b[0;34m\u001b[0m\u001b[0m\n\u001b[1;32m   1116\u001b[0m             \u001b[0;32mif\u001b[0m \u001b[0mengine\u001b[0m \u001b[0;34m==\u001b[0m \u001b[0;34m\"python\"\u001b[0m\u001b[0;34m:\u001b[0m\u001b[0;34m\u001b[0m\u001b[0;34m\u001b[0m\u001b[0m\n",
      "\u001b[0;32m/usr/local/lib/python3.6/dist-packages/pandas/io/parsers.py\u001b[0m in \u001b[0;36m__init__\u001b[0;34m(self, src, **kwds)\u001b[0m\n\u001b[1;32m   1889\u001b[0m         \u001b[0mkwds\u001b[0m\u001b[0;34m[\u001b[0m\u001b[0;34m\"usecols\"\u001b[0m\u001b[0;34m]\u001b[0m \u001b[0;34m=\u001b[0m \u001b[0mself\u001b[0m\u001b[0;34m.\u001b[0m\u001b[0musecols\u001b[0m\u001b[0;34m\u001b[0m\u001b[0;34m\u001b[0m\u001b[0m\n\u001b[1;32m   1890\u001b[0m \u001b[0;34m\u001b[0m\u001b[0m\n\u001b[0;32m-> 1891\u001b[0;31m         \u001b[0mself\u001b[0m\u001b[0;34m.\u001b[0m\u001b[0m_reader\u001b[0m \u001b[0;34m=\u001b[0m \u001b[0mparsers\u001b[0m\u001b[0;34m.\u001b[0m\u001b[0mTextReader\u001b[0m\u001b[0;34m(\u001b[0m\u001b[0msrc\u001b[0m\u001b[0;34m,\u001b[0m \u001b[0;34m**\u001b[0m\u001b[0mkwds\u001b[0m\u001b[0;34m)\u001b[0m\u001b[0;34m\u001b[0m\u001b[0;34m\u001b[0m\u001b[0m\n\u001b[0m\u001b[1;32m   1892\u001b[0m         \u001b[0mself\u001b[0m\u001b[0;34m.\u001b[0m\u001b[0munnamed_cols\u001b[0m \u001b[0;34m=\u001b[0m \u001b[0mself\u001b[0m\u001b[0;34m.\u001b[0m\u001b[0m_reader\u001b[0m\u001b[0;34m.\u001b[0m\u001b[0munnamed_cols\u001b[0m\u001b[0;34m\u001b[0m\u001b[0;34m\u001b[0m\u001b[0m\n\u001b[1;32m   1893\u001b[0m \u001b[0;34m\u001b[0m\u001b[0m\n",
      "\u001b[0;32mpandas/_libs/parsers.pyx\u001b[0m in \u001b[0;36mpandas._libs.parsers.TextReader.__cinit__\u001b[0;34m()\u001b[0m\n",
      "\u001b[0;32mpandas/_libs/parsers.pyx\u001b[0m in \u001b[0;36mpandas._libs.parsers.TextReader._setup_parser_source\u001b[0;34m()\u001b[0m\n",
      "\u001b[0;31mFileNotFoundError\u001b[0m: [Errno 2] File /home/lietk12/Projects/mp/vent4us/vent-data/20200417 solenoid pinch valve only/change PEEP/2020-04-17 16-03-4.356656.csv does not exist: '/home/lietk12/Projects/mp/vent4us/vent-data/20200417 solenoid pinch valve only/change PEEP/2020-04-17 16-03-4.356656.csv'"
     ]
    }
   ],
   "source": [
    "analysis = VentAnalyzer()\n",
    "analysis.load_data(data_name, dataset_path)"
   ]
  },
  {
   "cell_type": "markdown",
   "metadata": {
    "papermill": {
     "duration": null,
     "end_time": null,
     "exception": null,
     "start_time": null,
     "status": "pending"
    },
    "tags": []
   },
   "source": [
    "## Raw Data"
   ]
  },
  {
   "cell_type": "code",
   "execution_count": null,
   "metadata": {
    "papermill": {
     "duration": null,
     "end_time": null,
     "exception": null,
     "start_time": null,
     "status": "pending"
    },
    "tags": []
   },
   "outputs": [],
   "source": [
    "%autoreload\n",
    "\n",
    "results = mplot.make_measurements_fig(\n",
    "    analysis, data_title,\n",
    "    fig_maker=mplot.make_fig,\n",
    "    kwargs_plot_measurements={\n",
    "        'start_time': start_time, 'end_time': end_time, 'realign_time': True,\n",
    "        'plot_kwargs': {'linewidth': 1.0}\n",
    "    }\n",
    ")"
   ]
  },
  {
   "cell_type": "code",
   "execution_count": null,
   "metadata": {
    "papermill": {
     "duration": null,
     "end_time": null,
     "exception": null,
     "start_time": null,
     "status": "pending"
    },
    "tags": []
   },
   "outputs": [],
   "source": [
    "results[0].savefig('{}.png'.format(output_name), dpi=300)\n",
    "results[0].savefig('{}.pdf'.format(output_name), dpi=300)\n",
    "results[0].savefig('{}.svg'.format(output_name), dpi=300)"
   ]
  },
  {
   "cell_type": "code",
   "execution_count": null,
   "metadata": {
    "papermill": {
     "duration": null,
     "end_time": null,
     "exception": null,
     "start_time": null,
     "status": "pending"
    },
    "tags": []
   },
   "outputs": [],
   "source": [
    "%autoreload\n",
    "\n",
    "results = mplot.make_measurements_fig(\n",
    "    analysis, data_title,\n",
    "    kwargs_plot_measurements={'start_time': start_time, 'end_time': end_time}\n",
    ")"
   ]
  },
  {
   "cell_type": "code",
   "execution_count": null,
   "metadata": {
    "papermill": {
     "duration": null,
     "end_time": null,
     "exception": null,
     "start_time": null,
     "status": "pending"
    },
    "tags": []
   },
   "outputs": [],
   "source": [
    "%autoreload\n",
    "\n",
    "results = splot.make_settings_fig(\n",
    "    analysis, data_title,\n",
    "    kwargs_plot_settings={'start_time': start_time, 'end_time': end_time}\n",
    ")"
   ]
  },
  {
   "cell_type": "code",
   "execution_count": null,
   "metadata": {
    "papermill": {
     "duration": null,
     "end_time": null,
     "exception": null,
     "start_time": null,
     "status": "pending"
    },
    "tags": []
   },
   "outputs": [],
   "source": []
  }
 ],
 "metadata": {
  "kernelspec": {
   "display_name": "Python 3",
   "language": "python",
   "name": "python3"
  },
  "language_info": {
   "codemirror_mode": {
    "name": "ipython",
    "version": 3
   },
   "file_extension": ".py",
   "mimetype": "text/x-python",
   "name": "python",
   "nbconvert_exporter": "python",
   "pygments_lexer": "ipython3",
   "version": "3.6.9"
  },
  "papermill": {
   "duration": 3.042028,
   "end_time": "2020-04-18T04:05:14.537280",
   "environment_variables": {},
   "exception": true,
   "input_path": "basic_plotting_template.ipynb",
   "output_path": "20200417 solenoid pinch valve only/change PEEP/2020-04-17 16-03-4.356656_basic_plotting_Series1.ipynb",
   "parameters": {
    "data_name": "2020-04-17 16-03-4.356656",
    "dataset_collection_name": "20200417 solenoid pinch valve only",
    "dataset_collections_path": "/home/lietk12/Projects/mp/vent4us/vent-data/",
    "dataset_name": "change PEEP",
    "end_time": 100,
    "notebook_depth": 3,
    "output_name": "Series1",
    "start_time": 0
   },
   "start_time": "2020-04-18T04:05:11.495252",
   "version": "2.1.0"
  }
 },
 "nbformat": 4,
 "nbformat_minor": 4
}