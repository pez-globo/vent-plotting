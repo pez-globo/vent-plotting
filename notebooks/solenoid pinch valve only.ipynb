{
 "cells": [
  {
   "cell_type": "markdown",
   "metadata": {},
   "source": [
    "# Setup"
   ]
  },
  {
   "cell_type": "markdown",
   "metadata": {},
   "source": [
    "## Parameters"
   ]
  },
  {
   "cell_type": "code",
   "execution_count": 1,
   "metadata": {
    "tags": [
     "parameters"
    ]
   },
   "outputs": [],
   "source": [
    "# Default Parameters\n",
    "notebook_depth = 1\n",
    "dataset_collections_path = '/home/lietk12/Projects/mp/vent4us/vent-data/'\n",
    "dataset_collection_name = 'solenoid pinch valve only'\n",
    "data_entries = {\n",
    "    'RR = 30, PEEP = 10, Vt = 200-400 (450)': [\n",
    "        {\n",
    "            'data_name': '2020-04-12 18-39-32.832817',\n",
    "            'start_time': 20,\n",
    "            'end_time': 50\n",
    "        }\n",
    "    ],\n",
    "    'RR = 30, PEEP = 10, Vt = 200-400, quikly change Vt': [\n",
    "        {\n",
    "            'data_name': '2020-04-12 18-34-22.352142',\n",
    "            'start_time': 20,\n",
    "            'end_time': 50\n",
    "        }\n",
    "    ],\n",
    "    'RR = 30, PEEP = 15, Vt = 200-350': [\n",
    "        {\n",
    "            'data_name': '2020-04-12 18-31-10.137928',\n",
    "            'start_time': 20,\n",
    "            'end_time': 50\n",
    "        }\n",
    "    ],\n",
    "    'RR = 30, PEEP = 20, Vt = 200-300': [\n",
    "        {\n",
    "            'data_name': '2020-04-12 18-27-15.036126',\n",
    "            'start_time': 20,\n",
    "            'end_time': 50\n",
    "        }\n",
    "    ],\n",
    "    'RR = 30, pressure 18 psi, Vt = 250, PEEP = 5': [\n",
    "        {\n",
    "            'data_name': '2020-04-12 18-45-6.710770',\n",
    "            'start_time': 20,\n",
    "            'end_time': 50\n",
    "        }\n",
    "    ],\n",
    "    'RR=18, PEEP = 5, Vt 200-500': [\n",
    "        {\n",
    "            'data_name': '2020-04-12 17-52-57.432243',\n",
    "            'start_time': 20,\n",
    "            'end_time': 50\n",
    "        },\n",
    "        {\n",
    "            'data_name': '2020-04-12 17-59-44.124166',\n",
    "            'start_time': 20,\n",
    "            'end_time': 50\n",
    "        }\n",
    "    ],\n",
    "    'RR=18, PEEP = 10, Vt = 200-400': [\n",
    "        {\n",
    "            'data_name': '2020-04-12 18-11-20.774763',\n",
    "            'start_time': 20,\n",
    "            'end_time': 50\n",
    "        }\n",
    "    ],\n",
    "    'RR=18, PEEP = 15, Vt = 200-400': [\n",
    "        {\n",
    "            'data_name': '2020-04-12 18-17-48.204394',\n",
    "            'start_time': 20,\n",
    "            'end_time': 50\n",
    "        }\n",
    "    ],\n",
    "    'RR=18, PEEP = 20, Vt = 200-350': [\n",
    "        {\n",
    "            'data_name': '2020-04-12 18-21-31.854156',\n",
    "            'start_time': 20,\n",
    "            'end_time': 50\n",
    "        }\n",
    "    ]\n",
    "}"
   ]
  },
  {
   "cell_type": "markdown",
   "metadata": {},
   "source": [
    "## Imports"
   ]
  },
  {
   "cell_type": "markdown",
   "metadata": {},
   "source": [
    "### Plotting"
   ]
  },
  {
   "cell_type": "code",
   "execution_count": 2,
   "metadata": {},
   "outputs": [],
   "source": [
    "import matplotlib as mpl\n",
    "import matplotlib.pyplot as plt"
   ]
  },
  {
   "cell_type": "markdown",
   "metadata": {},
   "source": [
    "### Analysis"
   ]
  },
  {
   "cell_type": "code",
   "execution_count": 3,
   "metadata": {},
   "outputs": [],
   "source": [
    "import project_path  # make local camlab_headform package available\n",
    "repo_path = project_path.add_parent(notebook_depth)\n",
    "\n",
    "from ventplotting.plotting import plot\n",
    "from ventplotting.datasets import organization"
   ]
  },
  {
   "cell_type": "markdown",
   "metadata": {},
   "source": [
    "## Notebooks"
   ]
  },
  {
   "cell_type": "code",
   "execution_count": 4,
   "metadata": {},
   "outputs": [],
   "source": [
    "%load_ext autoreload\n",
    "\n",
    "from pathlib import Path\n",
    "\n",
    "import scrapbook as sb\n",
    "\n",
    "from ventplotting.notebooks import execute as nbex"
   ]
  },
  {
   "cell_type": "markdown",
   "metadata": {},
   "source": [
    "## Output Notebooks Directory"
   ]
  },
  {
   "cell_type": "code",
   "execution_count": 5,
   "metadata": {},
   "outputs": [],
   "source": [
    "notebooks_path = repo_path / 'notebooks'\n",
    "dataset_notebooks_paths = {}\n",
    "for dataset_name in data_entries.keys():\n",
    "    dataset_notebooks_path = organization.dataset_path(\n",
    "        dataset_name, dataset_collection_name, collections_dir=notebooks_path\n",
    "    )\n",
    "    dataset_notebooks_paths[dataset_name] = dataset_notebooks_path\n",
    "    project_path.duplicate_to(dataset_notebooks_path)"
   ]
  },
  {
   "cell_type": "markdown",
   "metadata": {},
   "source": [
    "# Basic Configuration"
   ]
  },
  {
   "cell_type": "markdown",
   "metadata": {},
   "source": [
    "## Plotting"
   ]
  },
  {
   "cell_type": "code",
   "execution_count": 6,
   "metadata": {},
   "outputs": [],
   "source": [
    "%autoreload\n",
    "\n",
    "plt.style.use('bmh')\n",
    "plot.use_helvetica()\n",
    "mpl.rc(\n",
    "    'figure',\n",
    "    dpi=120,\n",
    "    figsize=(10, 6)\n",
    ")\n",
    "mpl.rc('savefig', dpi=300, transparent=True, bbox='tight')"
   ]
  },
  {
   "cell_type": "markdown",
   "metadata": {},
   "source": [
    "# Basic Analyses"
   ]
  },
  {
   "cell_type": "markdown",
   "metadata": {},
   "source": [
    "## Notebook Execution"
   ]
  },
  {
   "cell_type": "code",
   "execution_count": 7,
   "metadata": {},
   "outputs": [
    {
     "data": {
      "text/markdown": [
       "Running basic analysis using template `basic_plotting_template.ipynb`..."
      ],
      "text/plain": [
       "<IPython.core.display.Markdown object>"
      ]
     },
     "metadata": {},
     "output_type": "display_data"
    },
    {
     "data": {
      "application/vnd.jupyter.widget-view+json": {
       "model_id": "93249c7a058047388751d044234f0684",
       "version_major": 2,
       "version_minor": 0
      },
      "text/plain": [
       "IntProgress(value=0, description='Notebooks', max=10)"
      ]
     },
     "metadata": {},
     "output_type": "display_data"
    },
    {
     "data": {
      "text/markdown": [
       "Running basic analysis on inputs and saving to `solenoid pinch valve only/RR = 30, PEEP = 10, Vt = 200-400 (450)/2020-04-12 18-39-32.832817_basic_plotting.ipynb`..."
      ],
      "text/plain": [
       "<IPython.core.display.Markdown object>"
      ]
     },
     "metadata": {},
     "output_type": "display_data"
    },
    {
     "data": {
      "application/vnd.jupyter.widget-view+json": {
       "model_id": "cb7d7d3f045c4977913ab4d5a99192bc",
       "version_major": 2,
       "version_minor": 0
      },
      "text/plain": [
       "HBox(children=(FloatProgress(value=0.0, description='Executing', max=28.0, style=ProgressStyle(description_wid…"
      ]
     },
     "metadata": {},
     "output_type": "display_data"
    },
    {
     "name": "stdout",
     "output_type": "stream",
     "text": [
      "\n"
     ]
    },
    {
     "data": {
      "text/markdown": [
       "Running basic analysis on inputs and saving to `solenoid pinch valve only/RR = 30, PEEP = 10, Vt = 200-400, quikly change Vt/2020-04-12 18-34-22.352142_basic_plotting.ipynb`..."
      ],
      "text/plain": [
       "<IPython.core.display.Markdown object>"
      ]
     },
     "metadata": {},
     "output_type": "display_data"
    },
    {
     "data": {
      "application/vnd.jupyter.widget-view+json": {
       "model_id": "55eb26bb624a469586e5b85d4f9e677d",
       "version_major": 2,
       "version_minor": 0
      },
      "text/plain": [
       "HBox(children=(FloatProgress(value=0.0, description='Executing', max=28.0, style=ProgressStyle(description_wid…"
      ]
     },
     "metadata": {},
     "output_type": "display_data"
    },
    {
     "name": "stdout",
     "output_type": "stream",
     "text": [
      "\n"
     ]
    },
    {
     "data": {
      "text/markdown": [
       "Running basic analysis on inputs and saving to `solenoid pinch valve only/RR = 30, PEEP = 15, Vt = 200-350/2020-04-12 18-31-10.137928_basic_plotting.ipynb`..."
      ],
      "text/plain": [
       "<IPython.core.display.Markdown object>"
      ]
     },
     "metadata": {},
     "output_type": "display_data"
    },
    {
     "data": {
      "application/vnd.jupyter.widget-view+json": {
       "model_id": "94940210ecab4784b1d7993e08d9188e",
       "version_major": 2,
       "version_minor": 0
      },
      "text/plain": [
       "HBox(children=(FloatProgress(value=0.0, description='Executing', max=28.0, style=ProgressStyle(description_wid…"
      ]
     },
     "metadata": {},
     "output_type": "display_data"
    },
    {
     "name": "stdout",
     "output_type": "stream",
     "text": [
      "\n"
     ]
    },
    {
     "data": {
      "text/markdown": [
       "Running basic analysis on inputs and saving to `solenoid pinch valve only/RR = 30, PEEP = 20, Vt = 200-300/2020-04-12 18-27-15.036126_basic_plotting.ipynb`..."
      ],
      "text/plain": [
       "<IPython.core.display.Markdown object>"
      ]
     },
     "metadata": {},
     "output_type": "display_data"
    },
    {
     "data": {
      "application/vnd.jupyter.widget-view+json": {
       "model_id": "bbbc3d45f2b84fe4857a9e885638b50f",
       "version_major": 2,
       "version_minor": 0
      },
      "text/plain": [
       "HBox(children=(FloatProgress(value=0.0, description='Executing', max=28.0, style=ProgressStyle(description_wid…"
      ]
     },
     "metadata": {},
     "output_type": "display_data"
    },
    {
     "name": "stdout",
     "output_type": "stream",
     "text": [
      "\n"
     ]
    },
    {
     "data": {
      "text/markdown": [
       "Running basic analysis on inputs and saving to `solenoid pinch valve only/RR = 30, pressure 18 psi, Vt = 250, PEEP = 5/2020-04-12 18-45-6.710770_basic_plotting.ipynb`..."
      ],
      "text/plain": [
       "<IPython.core.display.Markdown object>"
      ]
     },
     "metadata": {},
     "output_type": "display_data"
    },
    {
     "data": {
      "application/vnd.jupyter.widget-view+json": {
       "model_id": "a3d0fde2bd5f471fa6e75f3ed7e91dca",
       "version_major": 2,
       "version_minor": 0
      },
      "text/plain": [
       "HBox(children=(FloatProgress(value=0.0, description='Executing', max=28.0, style=ProgressStyle(description_wid…"
      ]
     },
     "metadata": {},
     "output_type": "display_data"
    },
    {
     "name": "stdout",
     "output_type": "stream",
     "text": [
      "\n"
     ]
    },
    {
     "data": {
      "text/markdown": [
       "Running basic analysis on inputs and saving to `solenoid pinch valve only/RR=18, PEEP = 5, Vt 200-500/2020-04-12 17-52-57.432243_basic_plotting.ipynb`..."
      ],
      "text/plain": [
       "<IPython.core.display.Markdown object>"
      ]
     },
     "metadata": {},
     "output_type": "display_data"
    },
    {
     "data": {
      "application/vnd.jupyter.widget-view+json": {
       "model_id": "74c9ea62173540b4b9e7b5c8f9d01d7e",
       "version_major": 2,
       "version_minor": 0
      },
      "text/plain": [
       "HBox(children=(FloatProgress(value=0.0, description='Executing', max=28.0, style=ProgressStyle(description_wid…"
      ]
     },
     "metadata": {},
     "output_type": "display_data"
    },
    {
     "name": "stdout",
     "output_type": "stream",
     "text": [
      "\n"
     ]
    },
    {
     "data": {
      "text/markdown": [
       "Running basic analysis on inputs and saving to `solenoid pinch valve only/RR=18, PEEP = 5, Vt 200-500/2020-04-12 17-59-44.124166_basic_plotting.ipynb`..."
      ],
      "text/plain": [
       "<IPython.core.display.Markdown object>"
      ]
     },
     "metadata": {},
     "output_type": "display_data"
    },
    {
     "data": {
      "application/vnd.jupyter.widget-view+json": {
       "model_id": "d3925a408d92407fa45f0dbc58248638",
       "version_major": 2,
       "version_minor": 0
      },
      "text/plain": [
       "HBox(children=(FloatProgress(value=0.0, description='Executing', max=28.0, style=ProgressStyle(description_wid…"
      ]
     },
     "metadata": {},
     "output_type": "display_data"
    },
    {
     "name": "stdout",
     "output_type": "stream",
     "text": [
      "\n"
     ]
    },
    {
     "data": {
      "text/markdown": [
       "Running basic analysis on inputs and saving to `solenoid pinch valve only/RR=18, PEEP = 10, Vt = 200-400/2020-04-12 18-11-20.774763_basic_plotting.ipynb`..."
      ],
      "text/plain": [
       "<IPython.core.display.Markdown object>"
      ]
     },
     "metadata": {},
     "output_type": "display_data"
    },
    {
     "data": {
      "application/vnd.jupyter.widget-view+json": {
       "model_id": "649c3a727c3a4bff9b98ab0cb4d75219",
       "version_major": 2,
       "version_minor": 0
      },
      "text/plain": [
       "HBox(children=(FloatProgress(value=0.0, description='Executing', max=28.0, style=ProgressStyle(description_wid…"
      ]
     },
     "metadata": {},
     "output_type": "display_data"
    },
    {
     "name": "stdout",
     "output_type": "stream",
     "text": [
      "\n"
     ]
    },
    {
     "data": {
      "text/markdown": [
       "Running basic analysis on inputs and saving to `solenoid pinch valve only/RR=18, PEEP = 15, Vt = 200-400/2020-04-12 18-17-48.204394_basic_plotting.ipynb`..."
      ],
      "text/plain": [
       "<IPython.core.display.Markdown object>"
      ]
     },
     "metadata": {},
     "output_type": "display_data"
    },
    {
     "data": {
      "application/vnd.jupyter.widget-view+json": {
       "model_id": "5bd29f8b7fd747ba9ae664fb098d8422",
       "version_major": 2,
       "version_minor": 0
      },
      "text/plain": [
       "HBox(children=(FloatProgress(value=0.0, description='Executing', max=28.0, style=ProgressStyle(description_wid…"
      ]
     },
     "metadata": {},
     "output_type": "display_data"
    },
    {
     "name": "stdout",
     "output_type": "stream",
     "text": [
      "\n"
     ]
    },
    {
     "data": {
      "text/markdown": [
       "Running basic analysis on inputs and saving to `solenoid pinch valve only/RR=18, PEEP = 20, Vt = 200-350/2020-04-12 18-21-31.854156_basic_plotting.ipynb`..."
      ],
      "text/plain": [
       "<IPython.core.display.Markdown object>"
      ]
     },
     "metadata": {},
     "output_type": "display_data"
    },
    {
     "data": {
      "application/vnd.jupyter.widget-view+json": {
       "model_id": "d33e756356ed46c99164a284f8e269e9",
       "version_major": 2,
       "version_minor": 0
      },
      "text/plain": [
       "HBox(children=(FloatProgress(value=0.0, description='Executing', max=28.0, style=ProgressStyle(description_wid…"
      ]
     },
     "metadata": {},
     "output_type": "display_data"
    },
    {
     "name": "stdout",
     "output_type": "stream",
     "text": [
      "\n"
     ]
    }
   ],
   "source": [
    "template_name = 'basic_plotting_template.ipynb'\n",
    "output_names_parameters = {}\n",
    "output_names_cwds = {}\n",
    "for (dataset_name, entries) in data_entries.items():\n",
    "    dataset_notebooks_path = dataset_notebooks_paths[dataset_name]\n",
    "    for data_entry in entries:\n",
    "        notebook_name = (\n",
    "            Path(dataset_name)\n",
    "            / '{}_basic_plotting.ipynb'.format(data_entry['data_name'])\n",
    "        )\n",
    "        output_names_parameters[notebook_name] = {\n",
    "            'notebook_depth': notebook_depth + 2,\n",
    "            'dataset_collections_path': dataset_collections_path,\n",
    "            'dataset_collection_name': dataset_collection_name,\n",
    "            'dataset_name': dataset_name,\n",
    "            'data_name': data_entry['data_name'],\n",
    "            'start_time': data_entry['start_time'],\n",
    "            'end_time': data_entry['end_time']\n",
    "        }\n",
    "        output_names_cwds[notebook_name] = dataset_notebooks_path\n",
    "nbex.batch_serial(\n",
    "    template_name, dataset_collection_name, output_names_cwds,\n",
    "    output_names_parameters, template_type='basic analysis',\n",
    ")"
   ]
  },
  {
   "cell_type": "code",
   "execution_count": null,
   "metadata": {},
   "outputs": [],
   "source": []
  }
 ],
 "metadata": {
  "kernelspec": {
   "display_name": "Python 3",
   "language": "python",
   "name": "python3"
  },
  "language_info": {
   "codemirror_mode": {
    "name": "ipython",
    "version": 3
   },
   "file_extension": ".py",
   "mimetype": "text/x-python",
   "name": "python",
   "nbconvert_exporter": "python",
   "pygments_lexer": "ipython3",
   "version": "3.6.9"
  }
 },
 "nbformat": 4,
 "nbformat_minor": 4
}
