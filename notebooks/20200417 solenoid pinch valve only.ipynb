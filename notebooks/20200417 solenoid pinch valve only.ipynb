{
 "cells": [
  {
   "cell_type": "markdown",
   "metadata": {},
   "source": [
    "# Setup"
   ]
  },
  {
   "cell_type": "markdown",
   "metadata": {},
   "source": [
    "## Parameters"
   ]
  },
  {
   "cell_type": "code",
   "execution_count": 1,
   "metadata": {
    "tags": [
     "parameters"
    ]
   },
   "outputs": [],
   "source": [
    "# Default Parameters\n",
    "notebook_depth = 1\n",
    "dataset_collections_path = '/home/lietk12/Projects/mp/vent4us/vent-data/'\n",
    "dataset_collection_name = '20200417 solenoid pinch valve only'\n",
    "data_entries = {\n",
    "    'changing PEEP 5->15': [\n",
    "        {\n",
    "            'data_name': '2020-04-17 02-19-46.030613',\n",
    "            'output_name': 'Series1',\n",
    "            'start_time': 3,\n",
    "            'end_time': 23\n",
    "        }\n",
    "    ],\n",
    "    'changing tidal volume': [\n",
    "        {\n",
    "            'data_name': '2020-04-17 02-15-43.018683',\n",
    "            'output_name': 'Series2',\n",
    "            'start_time': 18.5,\n",
    "            'end_time': 38.5\n",
    "        }\n",
    "    ],\n",
    "    'changing RR': [\n",
    "        {\n",
    "            'data_name': '2020-04-17 03-11-7.744325 (18-_30)',\n",
    "            'output_name': 'Series3',\n",
    "            'start_time': 18.75,\n",
    "            'end_time': 38.75\n",
    "        }\n",
    "    ],\n",
    "    'assist control': [\n",
    "        {\n",
    "            'data_name': '2020-04-17 02-31-19.548646 (delta = 3 cmH2O)',\n",
    "            'output_name': 'Series4',\n",
    "            'start_time': 24.5,\n",
    "            'end_time': 44.5\n",
    "        }\n",
    "    ]\n",
    "}"
   ]
  },
  {
   "cell_type": "markdown",
   "metadata": {},
   "source": [
    "## Imports"
   ]
  },
  {
   "cell_type": "markdown",
   "metadata": {},
   "source": [
    "### Plotting"
   ]
  },
  {
   "cell_type": "code",
   "execution_count": 2,
   "metadata": {},
   "outputs": [],
   "source": [
    "import matplotlib as mpl\n",
    "import matplotlib.pyplot as plt"
   ]
  },
  {
   "cell_type": "markdown",
   "metadata": {},
   "source": [
    "### Analysis"
   ]
  },
  {
   "cell_type": "code",
   "execution_count": 3,
   "metadata": {},
   "outputs": [],
   "source": [
    "import project_path  # make local camlab_headform package available\n",
    "repo_path = project_path.add_parent(notebook_depth)\n",
    "\n",
    "from ventplotting.plotting import plot\n",
    "from ventplotting.datasets import organization"
   ]
  },
  {
   "cell_type": "markdown",
   "metadata": {},
   "source": [
    "## Notebooks"
   ]
  },
  {
   "cell_type": "code",
   "execution_count": 4,
   "metadata": {},
   "outputs": [],
   "source": [
    "%load_ext autoreload\n",
    "\n",
    "from pathlib import Path\n",
    "\n",
    "import scrapbook as sb\n",
    "\n",
    "from ventplotting.notebooks import execute as nbex"
   ]
  },
  {
   "cell_type": "markdown",
   "metadata": {},
   "source": [
    "## Output Notebooks Directory"
   ]
  },
  {
   "cell_type": "code",
   "execution_count": 5,
   "metadata": {},
   "outputs": [],
   "source": [
    "notebooks_path = repo_path / 'notebooks'\n",
    "dataset_notebooks_paths = {}\n",
    "for dataset_name in data_entries.keys():\n",
    "    dataset_notebooks_path = organization.dataset_path(\n",
    "        dataset_name, dataset_collection_name, collections_dir=notebooks_path\n",
    "    )\n",
    "    dataset_notebooks_paths[dataset_name] = dataset_notebooks_path\n",
    "    project_path.duplicate_to(dataset_notebooks_path)"
   ]
  },
  {
   "cell_type": "markdown",
   "metadata": {},
   "source": [
    "# Basic Configuration"
   ]
  },
  {
   "cell_type": "markdown",
   "metadata": {},
   "source": [
    "## Plotting"
   ]
  },
  {
   "cell_type": "code",
   "execution_count": 6,
   "metadata": {},
   "outputs": [],
   "source": [
    "%autoreload\n",
    "\n",
    "plt.style.use('bmh')\n",
    "plot.use_helvetica()\n",
    "mpl.rc(\n",
    "    'figure',\n",
    "    dpi=120,\n",
    "    figsize=(10, 6)\n",
    ")\n",
    "mpl.rc('savefig', dpi=300, transparent=True, bbox='tight')"
   ]
  },
  {
   "cell_type": "markdown",
   "metadata": {},
   "source": [
    "# Basic Analyses"
   ]
  },
  {
   "cell_type": "markdown",
   "metadata": {},
   "source": [
    "## Notebook Execution"
   ]
  },
  {
   "cell_type": "code",
   "execution_count": 7,
   "metadata": {},
   "outputs": [
    {
     "data": {
      "text/markdown": [
       "Running basic analysis using template `basic_plotting_template.ipynb`..."
      ],
      "text/plain": [
       "<IPython.core.display.Markdown object>"
      ]
     },
     "metadata": {},
     "output_type": "display_data"
    },
    {
     "name": "stderr",
     "output_type": "stream",
     "text": [
      "[Parallel(n_jobs=-1)]: Using backend LokyBackend with 8 concurrent workers.\n",
      "[Parallel(n_jobs=-1)]: Done   1 tasks      | elapsed:    9.8s\n",
      "[Parallel(n_jobs=-1)]: Done   2 out of   4 | elapsed:   10.0s remaining:   10.0s\n",
      "[Parallel(n_jobs=-1)]: Done   4 out of   4 | elapsed:   10.4s remaining:    0.0s\n",
      "[Parallel(n_jobs=-1)]: Done   4 out of   4 | elapsed:   10.4s finished\n"
     ]
    }
   ],
   "source": [
    "template_name = 'basic_plotting_template.ipynb'\n",
    "output_names_parameters = {}\n",
    "output_names_cwds = {}\n",
    "for (dataset_name, entries) in data_entries.items():\n",
    "    dataset_notebooks_path = dataset_notebooks_paths[dataset_name]\n",
    "    for data_entry in entries:\n",
    "        notebook_name = (\n",
    "            Path(dataset_name)\n",
    "            / '{}_basic_plotting_{}.ipynb'.format(data_entry['data_name'], data_entry['output_name'])\n",
    "        )\n",
    "        output_names_parameters[notebook_name] = {\n",
    "            'notebook_depth': notebook_depth + 2,\n",
    "            'dataset_collections_path': dataset_collections_path,\n",
    "            'dataset_collection_name': dataset_collection_name,\n",
    "            'dataset_name': dataset_name,\n",
    "            'data_name': data_entry['data_name'],\n",
    "            'output_name': data_entry['output_name'],\n",
    "            'start_time': data_entry['start_time'],\n",
    "            'end_time': data_entry['end_time']\n",
    "        }\n",
    "        output_names_cwds[notebook_name] = dataset_notebooks_path\n",
    "nbex.batch_parallel(\n",
    "    template_name, dataset_collection_name, output_names_cwds,\n",
    "    output_names_parameters, template_type='basic analysis',\n",
    ")"
   ]
  },
  {
   "cell_type": "code",
   "execution_count": null,
   "metadata": {},
   "outputs": [],
   "source": []
  }
 ],
 "metadata": {
  "kernelspec": {
   "display_name": "Python 3",
   "language": "python",
   "name": "python3"
  },
  "language_info": {
   "codemirror_mode": {
    "name": "ipython",
    "version": 3
   },
   "file_extension": ".py",
   "mimetype": "text/x-python",
   "name": "python",
   "nbconvert_exporter": "python",
   "pygments_lexer": "ipython3",
   "version": "3.6.9"
  }
 },
 "nbformat": 4,
 "nbformat_minor": 4
}
