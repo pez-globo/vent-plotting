{
 "cells": [
  {
   "cell_type": "markdown",
   "metadata": {},
   "source": [
    "# Setup"
   ]
  },
  {
   "cell_type": "markdown",
   "metadata": {},
   "source": [
    "## Parameters"
   ]
  },
  {
   "cell_type": "code",
   "execution_count": null,
   "metadata": {
    "tags": [
     "parameters"
    ]
   },
   "outputs": [],
   "source": [
    "# Default Parameters\n",
    "notebook_depth = 1\n",
    "dataset_collections_path = '/home/lietk12/Projects/mp/vent4us/vent-data/'\n",
    "dataset_collection_name = '20200413 solenoid pinch valve only'\n",
    "dataset_name = 'A_RR=30, Vt = 300, PEEP = [5,10,15], 10 psi, flow rate = 40slm'\n",
    "data_name = '2020-04-13 22-16-20.217561'\n",
    "output_name = 't50-70'\n",
    "start_time = 50\n",
    "end_time = 70"
   ]
  },
  {
   "cell_type": "markdown",
   "metadata": {},
   "source": [
    "## Imports"
   ]
  },
  {
   "cell_type": "code",
   "execution_count": null,
   "metadata": {},
   "outputs": [],
   "source": [
    "import pathlib"
   ]
  },
  {
   "cell_type": "markdown",
   "metadata": {},
   "source": [
    "### Plotting"
   ]
  },
  {
   "cell_type": "code",
   "execution_count": null,
   "metadata": {},
   "outputs": [],
   "source": [
    "import matplotlib as mpl\n",
    "import matplotlib.pyplot as plt"
   ]
  },
  {
   "cell_type": "markdown",
   "metadata": {},
   "source": [
    "### Analysis"
   ]
  },
  {
   "cell_type": "code",
   "execution_count": null,
   "metadata": {},
   "outputs": [],
   "source": [
    "import project_path\n",
    "project_path.add_parent(notebook_depth) # make local ventplotting package available\n",
    "\n",
    "from ventplotting.analysis import VentAnalyzer\n",
    "from ventplotting.utilities import paths\n",
    "from ventplotting.datasets import organization\n",
    "from ventplotting.plotting import plot\n",
    "from ventplotting.plotting import measurements as mplot\n",
    "from ventplotting.plotting import settings as splot"
   ]
  },
  {
   "cell_type": "markdown",
   "metadata": {},
   "source": [
    "### Notebook"
   ]
  },
  {
   "cell_type": "code",
   "execution_count": null,
   "metadata": {},
   "outputs": [],
   "source": [
    "%load_ext autoreload\n",
    "import logging\n",
    "\n",
    "import scrapbook as sb\n",
    "\n",
    "import IPython.display as ipd\n",
    "from ventplotting.notebooks.display import print_md"
   ]
  },
  {
   "cell_type": "markdown",
   "metadata": {},
   "source": [
    "## Basic Configuration"
   ]
  },
  {
   "cell_type": "markdown",
   "metadata": {},
   "source": [
    "### Plotting"
   ]
  },
  {
   "cell_type": "code",
   "execution_count": null,
   "metadata": {},
   "outputs": [],
   "source": [
    "%autoreload\n",
    "\n",
    "plt.style.use('bmh')\n",
    "plot.use_helvetica()\n",
    "mpl.rc(\n",
    "    'figure',\n",
    "    dpi=120,\n",
    "    figsize=(8, 6.1)\n",
    ")\n",
    "mpl.rc('savefig', dpi=300, transparent=True, bbox='tight')"
   ]
  },
  {
   "cell_type": "markdown",
   "metadata": {},
   "source": [
    "### Analysis"
   ]
  },
  {
   "cell_type": "code",
   "execution_count": null,
   "metadata": {},
   "outputs": [],
   "source": [
    "dataset_path = organization.dataset_path(\n",
    "    dataset_name, dataset_collection_name, collections_dir=dataset_collections_path\n",
    ")\n",
    "data_title = pathlib.Path(dataset_name) / data_name"
   ]
  },
  {
   "cell_type": "markdown",
   "metadata": {},
   "source": [
    "### Logging"
   ]
  },
  {
   "cell_type": "code",
   "execution_count": null,
   "metadata": {},
   "outputs": [],
   "source": [
    "logger = logging.getLogger('ventplotting')\n",
    "logger.addHandler(logging.StreamHandler())\n",
    "logger.setLevel(logging.INFO)"
   ]
  },
  {
   "cell_type": "markdown",
   "metadata": {},
   "source": [
    "# Data"
   ]
  },
  {
   "cell_type": "code",
   "execution_count": null,
   "metadata": {},
   "outputs": [],
   "source": [
    "data_path = paths.csv_name_to_path(data_name, dir=dataset_path)"
   ]
  },
  {
   "cell_type": "markdown",
   "metadata": {},
   "source": [
    "# Basic Analysis"
   ]
  },
  {
   "cell_type": "markdown",
   "metadata": {},
   "source": [
    "## Analysis"
   ]
  },
  {
   "cell_type": "code",
   "execution_count": null,
   "metadata": {},
   "outputs": [],
   "source": [
    "analysis = VentAnalyzer()\n",
    "analysis.load_data(data_name, dataset_path)"
   ]
  },
  {
   "cell_type": "markdown",
   "metadata": {},
   "source": [
    "## Raw Data"
   ]
  },
  {
   "cell_type": "code",
   "execution_count": null,
   "metadata": {},
   "outputs": [],
   "source": [
    "%autoreload\n",
    "\n",
    "results = mplot.make_measurements_fig(\n",
    "    analysis, data_title,\n",
    "    fig_maker=mplot.make_fig,\n",
    "    kwargs_plot_measurements={\n",
    "        'start_time': start_time, 'end_time': end_time, 'realign_time': True,\n",
    "        'plot_kwargs': {'linewidth': 1.0}\n",
    "    }\n",
    ")"
   ]
  },
  {
   "cell_type": "code",
   "execution_count": null,
   "metadata": {},
   "outputs": [],
   "source": [
    "results[0].savefig('{}.png'.format(output_name), dpi=300)\n",
    "results[0].savefig('{}.pdf'.format(output_name), dpi=300)\n",
    "results[0].savefig('{}.svg'.format(output_name), dpi=300)"
   ]
  },
  {
   "cell_type": "code",
   "execution_count": null,
   "metadata": {},
   "outputs": [],
   "source": [
    "%autoreload\n",
    "\n",
    "results = mplot.make_measurements_fig(\n",
    "    analysis, data_title,\n",
    "    kwargs_plot_measurements={'start_time': start_time, 'end_time': end_time}\n",
    ")"
   ]
  },
  {
   "cell_type": "code",
   "execution_count": null,
   "metadata": {},
   "outputs": [],
   "source": [
    "%autoreload\n",
    "\n",
    "results = splot.make_settings_fig(\n",
    "    analysis, data_title,\n",
    "    kwargs_plot_settings={'start_time': start_time, 'end_time': end_time}\n",
    ")"
   ]
  },
  {
   "cell_type": "code",
   "execution_count": null,
   "metadata": {},
   "outputs": [],
   "source": []
  }
 ],
 "metadata": {
  "kernelspec": {
   "display_name": "Python 3",
   "language": "python",
   "name": "python3"
  },
  "language_info": {
   "codemirror_mode": {
    "name": "ipython",
    "version": 3
   },
   "file_extension": ".py",
   "mimetype": "text/x-python",
   "name": "python",
   "nbconvert_exporter": "python",
   "pygments_lexer": "ipython3",
   "version": "3.6.9"
  }
 },
 "nbformat": 4,
 "nbformat_minor": 4
}
